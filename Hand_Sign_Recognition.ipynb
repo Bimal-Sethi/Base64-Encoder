{
  "nbformat": 4,
  "nbformat_minor": 0,
  "metadata": {
    "colab": {
      "name": "Hand Sign Recognition.ipynb",
      "provenance": [],
      "authorship_tag": "ABX9TyM4Bdys7kPNprZ8g9HpXdzG",
      "include_colab_link": true
    },
    "kernelspec": {
      "name": "python3",
      "display_name": "Python 3"
    }
  },
  "cells": [
    {
      "cell_type": "markdown",
      "metadata": {
        "id": "view-in-github",
        "colab_type": "text"
      },
      "source": [
        "<a href=\"https://colab.research.google.com/github/Bimal-Sethi/Base64-Encoder/blob/master/Hand_Sign_Recognition.ipynb\" target=\"_parent\"><img src=\"https://colab.research.google.com/assets/colab-badge.svg\" alt=\"Open In Colab\"/></a>"
      ]
    },
    {
      "cell_type": "code",
      "metadata": {
        "colab": {
          "base_uri": "https://localhost:8080/"
        },
        "id": "fl9cABe1qICc",
        "outputId": "2216bc98-5f55-4757-fa4f-e588b038a051"
      },
      "source": [
        "from google.colab import drive\n",
        "drive.mount('/content/drive')\n",
        "\n",
        "from PIL import Image\n",
        "from zipfile import ZipFile\n",
        "import numpy as np"
      ],
      "execution_count": 22,
      "outputs": [
        {
          "output_type": "stream",
          "text": [
            "Drive already mounted at /content/drive; to attempt to forcibly remount, call drive.mount(\"/content/drive\", force_remount=True).\n"
          ],
          "name": "stdout"
        }
      ]
    },
    {
      "cell_type": "code",
      "metadata": {
        "id": "fX6np8hAqQ6t"
      },
      "source": [
        "zip_path = \"drive/MyDrive/dataset.zip\"\n",
        "with ZipFile(zip_path) as myzip:\n",
        "    files_in_zip = myzip.namelist()"
      ],
      "execution_count": 4,
      "outputs": []
    },
    {
      "cell_type": "code",
      "metadata": {
        "colab": {
          "base_uri": "https://localhost:8080/",
          "height": 35
        },
        "id": "L16Dv2xtroz3",
        "outputId": "873bcec8-f482-4abc-dc7a-c8a5a0d34aa5"
      },
      "source": [
        "files_in_zip[41000]"
      ],
      "execution_count": 15,
      "outputs": [
        {
          "output_type": "execute_result",
          "data": {
            "application/vnd.google.colaboratory.intrinsic+json": {
              "type": "string"
            },
            "text/plain": [
              "'data/Z/1178.jpg'"
            ]
          },
          "metadata": {
            "tags": []
          },
          "execution_count": 15
        }
      ]
    },
    {
      "cell_type": "code",
      "metadata": {
        "colab": {
          "base_uri": "https://localhost:8080/"
        },
        "id": "_sZcQZ40qlY7",
        "outputId": "fdd1db6b-9924-4f44-de6f-c0fc4b7dd534"
      },
      "source": [
        "len(files_in_zip)"
      ],
      "execution_count": 9,
      "outputs": [
        {
          "output_type": "execute_result",
          "data": {
            "text/plain": [
              "42000"
            ]
          },
          "metadata": {
            "tags": []
          },
          "execution_count": 9
        }
      ]
    },
    {
      "cell_type": "code",
      "metadata": {
        "id": "AWqTTTBQqw4P"
      },
      "source": [
        "data = []\n",
        "labels = []\n",
        "with ZipFile(zip_path) as myzip:\n",
        "    for files in files_in_zip:\n",
        "        with myzip.open(files) as myfile:\n",
        "            img = Image.open(myfile)\n",
        "            data.append(np.array(img))\n",
        "            if ord(files[5]) < 10:\n",
        "                labels.append(ord(files[5]))\n",
        "            else:\n",
        "                labels.append(ord(files[5])-65+10)\n"
      ],
      "execution_count": 58,
      "outputs": []
    },
    {
      "cell_type": "code",
      "metadata": {
        "id": "kjgUOlYRq1gX"
      },
      "source": [
        "data = np.array(data)\n",
        "labels = np.array(labels)"
      ],
      "execution_count": 62,
      "outputs": []
    },
    {
      "cell_type": "code",
      "metadata": {
        "colab": {
          "base_uri": "https://localhost:8080/"
        },
        "id": "JENtKZhcq7gn",
        "outputId": "61ebdb0c-ec15-4dbb-c4be-73a7a100c056"
      },
      "source": [
        "print(data.shape, labels.shape)"
      ],
      "execution_count": 63,
      "outputs": [
        {
          "output_type": "stream",
          "text": [
            "(42000, 128, 128, 3) (42000,)\n"
          ],
          "name": "stdout"
        }
      ]
    },
    {
      "cell_type": "code",
      "metadata": {
        "id": "f4sh8D63s9pL"
      },
      "source": [
        ""
      ],
      "execution_count": null,
      "outputs": []
    }
  ]
}